{
 "cells": [
  {
   "cell_type": "code",
   "execution_count": null,
   "id": "8dd64490-e39c-4f6c-a9ec-8c6097f4020c",
   "metadata": {},
   "outputs": [
    {
     "name": "stdin",
     "output_type": "stream",
     "text": [
      "-> n\n"
     ]
    },
    {
     "name": "stdout",
     "output_type": "stream",
     "text": [
      "Received from Server->  hii\n"
     ]
    },
    {
     "name": "stdin",
     "output_type": "stream",
     "text": [
      "-> hoo\n"
     ]
    }
   ],
   "source": [
    "# TCP CLIENT\n",
    "\n",
    "import socket\n",
    "\n",
    "host=socket.gethostname()\n",
    "port=5009\n",
    "\n",
    "client_socket=socket.socket()\n",
    "client_socket.connect((host,port))\n",
    "\n",
    "message=input(\"->\")\n",
    "\n",
    "while message!=\" \":\n",
    "    client_socket.send(message.encode())\n",
    "    data=client_socket.recv(1024).decode()\n",
    "    print(\"Received from Server-> \",data)\n",
    "    message=input(\"->\")\n",
    "\n",
    "client_socket.close()"
   ]
  },
  {
   "cell_type": "code",
   "execution_count": null,
   "id": "b999e061-c31b-4bbe-8f66-8629df5fc4d4",
   "metadata": {},
   "outputs": [],
   "source": []
  }
 ],
 "metadata": {
  "kernelspec": {
   "display_name": "Python [conda env:base] *",
   "language": "python",
   "name": "conda-base-py"
  },
  "language_info": {
   "codemirror_mode": {
    "name": "ipython",
    "version": 3
   },
   "file_extension": ".py",
   "mimetype": "text/x-python",
   "name": "python",
   "nbconvert_exporter": "python",
   "pygments_lexer": "ipython3",
   "version": "3.12.7"
  }
 },
 "nbformat": 4,
 "nbformat_minor": 5
}
