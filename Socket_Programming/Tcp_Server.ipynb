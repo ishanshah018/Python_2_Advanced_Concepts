{
 "cells": [
  {
   "cell_type": "code",
   "execution_count": null,
   "id": "55aedded-4ee5-443b-b658-aaa2bc06d4f6",
   "metadata": {},
   "outputs": [
    {
     "name": "stdout",
     "output_type": "stream",
     "text": [
      "Connection From:  ('192.168.31.141', 53016)\n",
      "n\n"
     ]
    },
    {
     "name": "stdin",
     "output_type": "stream",
     "text": [
      "-> hii\n"
     ]
    },
    {
     "name": "stdout",
     "output_type": "stream",
     "text": [
      "hoo\n"
     ]
    }
   ],
   "source": [
    "# TCP SERVER\n",
    "\n",
    "import socket\n",
    "\n",
    "host=socket.gethostname()\n",
    "port=5009\n",
    "Addr=(host,port)\n",
    "\n",
    "server_socket=socket.socket()\n",
    "server_socket.bind(Addr)\n",
    "server_socket.listen()\n",
    "conn,addr=server_socket.accept()\n",
    "\n",
    "print(\"Connection From: \",str(addr))\n",
    "\n",
    "while True:\n",
    "    data=conn.recv(1024).decode()\n",
    "    if not data:\n",
    "        break\n",
    "\n",
    "    print(data)\n",
    "    data=input(\"->\")\n",
    "    conn.send(data.encode())\n",
    "\n",
    "conn.close()"
   ]
  },
  {
   "cell_type": "code",
   "execution_count": null,
   "id": "23adebc8-5085-4eda-afca-19f0b7c77cc5",
   "metadata": {},
   "outputs": [],
   "source": []
  }
 ],
 "metadata": {
  "kernelspec": {
   "display_name": "Python [conda env:base] *",
   "language": "python",
   "name": "conda-base-py"
  },
  "language_info": {
   "codemirror_mode": {
    "name": "ipython",
    "version": 3
   },
   "file_extension": ".py",
   "mimetype": "text/x-python",
   "name": "python",
   "nbconvert_exporter": "python",
   "pygments_lexer": "ipython3",
   "version": "3.12.7"
  }
 },
 "nbformat": 4,
 "nbformat_minor": 5
}
