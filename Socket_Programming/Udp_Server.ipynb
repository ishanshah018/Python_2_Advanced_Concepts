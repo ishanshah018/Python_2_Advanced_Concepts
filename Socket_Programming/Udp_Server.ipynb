{
 "cells": [
  {
   "cell_type": "code",
   "execution_count": null,
   "id": "3fedf6f9-a2eb-4ec1-aee8-7fa8adcabb48",
   "metadata": {},
   "outputs": [
    {
     "name": "stdout",
     "output_type": "stream",
     "text": [
      "Waiting for message\n",
      "Receievd  Hey bro wp  from  ('127.0.0.1', 58307)\n"
     ]
    },
    {
     "name": "stdin",
     "output_type": "stream",
     "text": [
      "Enter msg:  hahhaha\n"
     ]
    },
    {
     "name": "stdout",
     "output_type": "stream",
     "text": [
      "Waiting for message\n",
      "Receievd  moj masti  from  ('127.0.0.1', 58307)\n"
     ]
    },
    {
     "name": "stdin",
     "output_type": "stream",
     "text": [
      "Enter msg:  hale\n"
     ]
    },
    {
     "name": "stdout",
     "output_type": "stream",
     "text": [
      "Waiting for message\n",
      "Receievd  k  from  ('127.0.0.1', 62370)\n"
     ]
    },
    {
     "name": "stdin",
     "output_type": "stream",
     "text": [
      "Enter msg:  h\n"
     ]
    },
    {
     "name": "stdout",
     "output_type": "stream",
     "text": [
      "Waiting for message\n"
     ]
    }
   ],
   "source": [
    "# UDP SERVER\n",
    "\n",
    "import socket\n",
    "\n",
    "host=\"\"\n",
    "port=5000\n",
    "Addr=(host,port)\n",
    "\n",
    "udp_server=socket.socket(type=socket.SOCK_DGRAM)\n",
    "udp_server.bind(Addr)\n",
    "\n",
    "while True:\n",
    "    print(\"Waiting for message\")\n",
    "    data,addr=udp_server.recvfrom(1024)\n",
    "    print(\"Receievd \",data.decode(),\" from \",addr)\n",
    "    msg=input(\"Enter msg: \")\n",
    "    udp_server.sendto(msg.encode(),addr)\n",
    "udp_server.close()"
   ]
  },
  {
   "cell_type": "code",
   "execution_count": null,
   "id": "1f40e409-fa0c-4913-941f-dbc6166ed93d",
   "metadata": {},
   "outputs": [],
   "source": []
  }
 ],
 "metadata": {
  "kernelspec": {
   "display_name": "Python [conda env:base] *",
   "language": "python",
   "name": "conda-base-py"
  },
  "language_info": {
   "codemirror_mode": {
    "name": "ipython",
    "version": 3
   },
   "file_extension": ".py",
   "mimetype": "text/x-python",
   "name": "python",
   "nbconvert_exporter": "python",
   "pygments_lexer": "ipython3",
   "version": "3.12.7"
  }
 },
 "nbformat": 4,
 "nbformat_minor": 5
}
