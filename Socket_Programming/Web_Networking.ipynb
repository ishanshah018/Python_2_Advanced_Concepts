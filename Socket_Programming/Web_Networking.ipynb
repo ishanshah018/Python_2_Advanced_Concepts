{
 "cells": [
  {
   "cell_type": "code",
   "execution_count": 3,
   "id": "64117e09-6829-4d21-ae07-d019f217989c",
   "metadata": {},
   "outputs": [
    {
     "name": "stdout",
     "output_type": "stream",
     "text": [
      "HTTP/1.1 301 Moved Permanently\n",
      "Server: nginx/1.18.0 (Ubuntu)\n",
      "Date: Tue, 03 Jun 2025 06:33:01 GMT\n",
      "Content-Type: text/html\n",
      "Content-Length: 178\n",
      "Connection: close\n",
      "Location: https://ljku.edu.in\n",
      "\n",
      "<html>\n",
      "<head><title>301 Moved Permanently</title></head>\n",
      "<body>\n",
      "<center><h1>301 Moved Permanently</h1></center>\n",
      "<hr><center>nginx/1.18.0 (Ubuntu)</center>\n",
      "</body>\n",
      "</html>\n"
     ]
    }
   ],
   "source": [
    "import socket\n",
    "\n",
    "mysock=socket.socket()\n",
    "mysock.connect((\"www.ljku.edu.in\",80))\n",
    "cmd=\"GET https://ljku.edu.in/lju-at-a-glance HTTP/1.0\\n\\n\".encode()\n",
    "mysock.send(cmd)\n",
    "\n",
    "while True:\n",
    "    data=mysock.recv(1024)\n",
    "    if len(data)<1:\n",
    "        break\n",
    "    print(data.decode(),end=\"\")\n",
    "\n",
    "mysock.close()"
   ]
  },
  {
   "cell_type": "code",
   "execution_count": null,
   "id": "50e0a0d1-8dfa-4b5b-85ed-7da6a8ae3fa3",
   "metadata": {},
   "outputs": [],
   "source": []
  }
 ],
 "metadata": {
  "kernelspec": {
   "display_name": "Python [conda env:base] *",
   "language": "python",
   "name": "conda-base-py"
  },
  "language_info": {
   "codemirror_mode": {
    "name": "ipython",
    "version": 3
   },
   "file_extension": ".py",
   "mimetype": "text/x-python",
   "name": "python",
   "nbconvert_exporter": "python",
   "pygments_lexer": "ipython3",
   "version": "3.12.7"
  }
 },
 "nbformat": 4,
 "nbformat_minor": 5
}
