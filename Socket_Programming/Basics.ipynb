{
 "cells": [
  {
   "cell_type": "code",
   "execution_count": 1,
   "id": "8a163544-dfbf-48d2-87c3-29d639fea570",
   "metadata": {},
   "outputs": [
    {
     "name": "stdout",
     "output_type": "stream",
     "text": [
      "Hostname:  Mac.lan\n",
      "Ip Address:  192.168.31.141\n",
      "Port  50075\n"
     ]
    }
   ],
   "source": [
    "# GET hostname,ipadress & port \n",
    "\n",
    "import socket\n",
    "\n",
    "hostname=socket.gethostname()\n",
    "\n",
    "ip_address=socket.gethostbyname(hostname)\n",
    "\n",
    "\n",
    "with socket.socket(socket.AF_INET,socket.SOCK_STREAM) as s:\n",
    "    s.bind(('localhost',0))\n",
    "    _,port=s.getsockname()\n",
    "\n",
    "print(\"Hostname: \",hostname)\n",
    "print(\"Ip Address: \",ip_address)\n",
    "print(\"Port \",port)"
   ]
  }
 ],
 "metadata": {
  "kernelspec": {
   "display_name": "Python [conda env:base] *",
   "language": "python",
   "name": "conda-base-py"
  },
  "language_info": {
   "codemirror_mode": {
    "name": "ipython",
    "version": 3
   },
   "file_extension": ".py",
   "mimetype": "text/x-python",
   "name": "python",
   "nbconvert_exporter": "python",
   "pygments_lexer": "ipython3",
   "version": "3.12.7"
  }
 },
 "nbformat": 4,
 "nbformat_minor": 5
}
